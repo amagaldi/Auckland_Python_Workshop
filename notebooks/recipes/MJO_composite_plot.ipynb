{
 "cells": [
  {
   "cell_type": "markdown",
   "metadata": {},
   "source": [
    "### Python recipe to read and plots the MJO RMM index(es) and calculate composite anomalies in the daily VCSN rainfall dataset for a given phase"
   ]
  },
  {
   "cell_type": "markdown",
   "metadata": {},
   "source": [
    "### imports "
   ]
  },
  {
   "cell_type": "code",
   "execution_count": 5,
   "metadata": {
    "collapsed": true
   },
   "outputs": [],
   "source": [
    "%matplotlib inline\n",
    "import os\n",
    "import sys\n",
    "import numpy as np\n",
    "import pandas as pd\n",
    "import xarray as xr\n",
    "from matplotlib import pyplot as plt"
   ]
  },
  {
   "cell_type": "code",
   "execution_count": 6,
   "metadata": {
    "collapsed": true
   },
   "outputs": [],
   "source": [
    "from datetime import datetime\n",
    "from dateutil.parser import parse as dparse\n",
    "import calendar"
   ]
  },
  {
   "cell_type": "code",
   "execution_count": 7,
   "metadata": {
    "collapsed": true
   },
   "outputs": [],
   "source": [
    "from IPython.display import IFrame"
   ]
  },
  {
   "cell_type": "markdown",
   "metadata": {},
   "source": [
    "### below are the imports we need to make the map using [http://scitools.org.uk/cartopy/docs/latest/index.html](http://scitools.org.uk/cartopy/docs/latest/index.html)"
   ]
  },
  {
   "cell_type": "code",
   "execution_count": 8,
   "metadata": {},
   "outputs": [],
   "source": [
    "from cartopy import crs as ccrs\n",
    "from cartopy import feature as cfeature\n",
    "from cartopy.mpl.ticker import LongitudeFormatter, LatitudeFormatter"
   ]
  },
  {
   "cell_type": "markdown",
   "metadata": {},
   "source": [
    "### this is where the Wheeler and Hendon (2004) realtime RMM index lives, and what it looks like"
   ]
  },
  {
   "cell_type": "code",
   "execution_count": 9,
   "metadata": {
    "collapsed": true
   },
   "outputs": [],
   "source": [
    "url = 'http://www.bom.gov.au/climate/mjo/graphics/rmm.74toRealtime.txt'"
   ]
  },
  {
   "cell_type": "code",
   "execution_count": 10,
   "metadata": {},
   "outputs": [
    {
     "data": {
      "text/html": [
       "\n",
       "        <iframe\n",
       "            width=\"1100\"\n",
       "            height=\"500\"\n",
       "            src=\"http://www.bom.gov.au/climate/mjo/graphics/rmm.74toRealtime.txt\"\n",
       "            frameborder=\"0\"\n",
       "            allowfullscreen\n",
       "        ></iframe>\n",
       "        "
      ],
      "text/plain": [
       "<IPython.lib.display.IFrame at 0x1147e5588>"
      ]
     },
     "execution_count": 10,
     "metadata": {},
     "output_type": "execute_result"
    }
   ],
   "source": [
    "IFrame(url, width=1100, height=500)"
   ]
  },
  {
   "cell_type": "markdown",
   "metadata": {},
   "source": [
    "### reads in the RMM index using Pandas"
   ]
  },
  {
   "cell_type": "code",
   "execution_count": 11,
   "metadata": {
    "collapsed": true
   },
   "outputs": [],
   "source": [
    "data = pd.read_table(url, skiprows=2, sep=r'\\s+', header=None)"
   ]
  },
  {
   "cell_type": "code",
   "execution_count": 12,
   "metadata": {},
   "outputs": [
    {
     "data": {
      "text/html": [
       "<div>\n",
       "<style>\n",
       "    .dataframe thead tr:only-child th {\n",
       "        text-align: right;\n",
       "    }\n",
       "\n",
       "    .dataframe thead th {\n",
       "        text-align: left;\n",
       "    }\n",
       "\n",
       "    .dataframe tbody tr th {\n",
       "        vertical-align: top;\n",
       "    }\n",
       "</style>\n",
       "<table border=\"1\" class=\"dataframe\">\n",
       "  <thead>\n",
       "    <tr style=\"text-align: right;\">\n",
       "      <th></th>\n",
       "      <th>0</th>\n",
       "      <th>1</th>\n",
       "      <th>2</th>\n",
       "      <th>3</th>\n",
       "      <th>4</th>\n",
       "      <th>5</th>\n",
       "      <th>6</th>\n",
       "      <th>7</th>\n",
       "    </tr>\n",
       "  </thead>\n",
       "  <tbody>\n",
       "    <tr>\n",
       "      <th>0</th>\n",
       "      <td>1974</td>\n",
       "      <td>6</td>\n",
       "      <td>1</td>\n",
       "      <td>1.63447</td>\n",
       "      <td>1.20304</td>\n",
       "      <td>5</td>\n",
       "      <td>2.02948</td>\n",
       "      <td>Final_value:__OLR_&amp;_NCEP_winds</td>\n",
       "    </tr>\n",
       "    <tr>\n",
       "      <th>1</th>\n",
       "      <td>1974</td>\n",
       "      <td>6</td>\n",
       "      <td>2</td>\n",
       "      <td>1.60289</td>\n",
       "      <td>1.01512</td>\n",
       "      <td>5</td>\n",
       "      <td>1.89729</td>\n",
       "      <td>Final_value:__OLR_&amp;_NCEP_winds</td>\n",
       "    </tr>\n",
       "    <tr>\n",
       "      <th>2</th>\n",
       "      <td>1974</td>\n",
       "      <td>6</td>\n",
       "      <td>3</td>\n",
       "      <td>1.51625</td>\n",
       "      <td>1.08551</td>\n",
       "      <td>5</td>\n",
       "      <td>1.86476</td>\n",
       "      <td>Final_value:__OLR_&amp;_NCEP_winds</td>\n",
       "    </tr>\n",
       "    <tr>\n",
       "      <th>3</th>\n",
       "      <td>1974</td>\n",
       "      <td>6</td>\n",
       "      <td>4</td>\n",
       "      <td>1.50981</td>\n",
       "      <td>1.03573</td>\n",
       "      <td>5</td>\n",
       "      <td>1.83092</td>\n",
       "      <td>Final_value:__OLR_&amp;_NCEP_winds</td>\n",
       "    </tr>\n",
       "    <tr>\n",
       "      <th>4</th>\n",
       "      <td>1974</td>\n",
       "      <td>6</td>\n",
       "      <td>5</td>\n",
       "      <td>1.55906</td>\n",
       "      <td>1.30518</td>\n",
       "      <td>5</td>\n",
       "      <td>2.03326</td>\n",
       "      <td>Final_value:__OLR_&amp;_NCEP_winds</td>\n",
       "    </tr>\n",
       "  </tbody>\n",
       "</table>\n",
       "</div>"
      ],
      "text/plain": [
       "      0  1  2        3        4  5        6                               7\n",
       "0  1974  6  1  1.63447  1.20304  5  2.02948  Final_value:__OLR_&_NCEP_winds\n",
       "1  1974  6  2  1.60289  1.01512  5  1.89729  Final_value:__OLR_&_NCEP_winds\n",
       "2  1974  6  3  1.51625  1.08551  5  1.86476  Final_value:__OLR_&_NCEP_winds\n",
       "3  1974  6  4  1.50981  1.03573  5  1.83092  Final_value:__OLR_&_NCEP_winds\n",
       "4  1974  6  5  1.55906  1.30518  5  2.03326  Final_value:__OLR_&_NCEP_winds"
      ]
     },
     "execution_count": 12,
     "metadata": {},
     "output_type": "execute_result"
    }
   ],
   "source": [
    "data.head()"
   ]
  },
  {
   "cell_type": "markdown",
   "metadata": {},
   "source": [
    "### some data munging follows"
   ]
  },
  {
   "cell_type": "markdown",
   "metadata": {},
   "source": [
    "#### renaming the columns"
   ]
  },
  {
   "cell_type": "code",
   "execution_count": 13,
   "metadata": {
    "collapsed": true
   },
   "outputs": [],
   "source": [
    "data.columns = ['year', 'month', 'day', 'RMM1', 'RMM2', 'phase', 'amplitude', 'origin']"
   ]
  },
  {
   "cell_type": "code",
   "execution_count": 14,
   "metadata": {},
   "outputs": [
    {
     "data": {
      "text/html": [
       "<div>\n",
       "<style>\n",
       "    .dataframe thead tr:only-child th {\n",
       "        text-align: right;\n",
       "    }\n",
       "\n",
       "    .dataframe thead th {\n",
       "        text-align: left;\n",
       "    }\n",
       "\n",
       "    .dataframe tbody tr th {\n",
       "        vertical-align: top;\n",
       "    }\n",
       "</style>\n",
       "<table border=\"1\" class=\"dataframe\">\n",
       "  <thead>\n",
       "    <tr style=\"text-align: right;\">\n",
       "      <th></th>\n",
       "      <th>year</th>\n",
       "      <th>month</th>\n",
       "      <th>day</th>\n",
       "      <th>RMM1</th>\n",
       "      <th>RMM2</th>\n",
       "      <th>phase</th>\n",
       "      <th>amplitude</th>\n",
       "      <th>origin</th>\n",
       "    </tr>\n",
       "  </thead>\n",
       "  <tbody>\n",
       "    <tr>\n",
       "      <th>0</th>\n",
       "      <td>1974</td>\n",
       "      <td>6</td>\n",
       "      <td>1</td>\n",
       "      <td>1.63447</td>\n",
       "      <td>1.20304</td>\n",
       "      <td>5</td>\n",
       "      <td>2.02948</td>\n",
       "      <td>Final_value:__OLR_&amp;_NCEP_winds</td>\n",
       "    </tr>\n",
       "    <tr>\n",
       "      <th>1</th>\n",
       "      <td>1974</td>\n",
       "      <td>6</td>\n",
       "      <td>2</td>\n",
       "      <td>1.60289</td>\n",
       "      <td>1.01512</td>\n",
       "      <td>5</td>\n",
       "      <td>1.89729</td>\n",
       "      <td>Final_value:__OLR_&amp;_NCEP_winds</td>\n",
       "    </tr>\n",
       "    <tr>\n",
       "      <th>2</th>\n",
       "      <td>1974</td>\n",
       "      <td>6</td>\n",
       "      <td>3</td>\n",
       "      <td>1.51625</td>\n",
       "      <td>1.08551</td>\n",
       "      <td>5</td>\n",
       "      <td>1.86476</td>\n",
       "      <td>Final_value:__OLR_&amp;_NCEP_winds</td>\n",
       "    </tr>\n",
       "    <tr>\n",
       "      <th>3</th>\n",
       "      <td>1974</td>\n",
       "      <td>6</td>\n",
       "      <td>4</td>\n",
       "      <td>1.50981</td>\n",
       "      <td>1.03573</td>\n",
       "      <td>5</td>\n",
       "      <td>1.83092</td>\n",
       "      <td>Final_value:__OLR_&amp;_NCEP_winds</td>\n",
       "    </tr>\n",
       "    <tr>\n",
       "      <th>4</th>\n",
       "      <td>1974</td>\n",
       "      <td>6</td>\n",
       "      <td>5</td>\n",
       "      <td>1.55906</td>\n",
       "      <td>1.30518</td>\n",
       "      <td>5</td>\n",
       "      <td>2.03326</td>\n",
       "      <td>Final_value:__OLR_&amp;_NCEP_winds</td>\n",
       "    </tr>\n",
       "  </tbody>\n",
       "</table>\n",
       "</div>"
      ],
      "text/plain": [
       "   year  month  day     RMM1     RMM2  phase  amplitude  \\\n",
       "0  1974      6    1  1.63447  1.20304      5    2.02948   \n",
       "1  1974      6    2  1.60289  1.01512      5    1.89729   \n",
       "2  1974      6    3  1.51625  1.08551      5    1.86476   \n",
       "3  1974      6    4  1.50981  1.03573      5    1.83092   \n",
       "4  1974      6    5  1.55906  1.30518      5    2.03326   \n",
       "\n",
       "                           origin  \n",
       "0  Final_value:__OLR_&_NCEP_winds  \n",
       "1  Final_value:__OLR_&_NCEP_winds  \n",
       "2  Final_value:__OLR_&_NCEP_winds  \n",
       "3  Final_value:__OLR_&_NCEP_winds  \n",
       "4  Final_value:__OLR_&_NCEP_winds  "
      ]
     },
     "execution_count": 14,
     "metadata": {},
     "output_type": "execute_result"
    }
   ],
   "source": [
    "data.head()"
   ]
  },
  {
   "cell_type": "markdown",
   "metadata": {},
   "source": [
    "#### set the index to be a datetime index"
   ]
  },
  {
   "cell_type": "code",
   "execution_count": 15,
   "metadata": {
    "collapsed": true
   },
   "outputs": [],
   "source": [
    "index = pd.to_datetime(data.loc[:,['year','month','day']])"
   ]
  },
  {
   "cell_type": "code",
   "execution_count": 16,
   "metadata": {
    "collapsed": true
   },
   "outputs": [],
   "source": [
    "data.index = index"
   ]
  },
  {
   "cell_type": "code",
   "execution_count": 17,
   "metadata": {},
   "outputs": [
    {
     "data": {
      "text/html": [
       "<div>\n",
       "<style>\n",
       "    .dataframe thead tr:only-child th {\n",
       "        text-align: right;\n",
       "    }\n",
       "\n",
       "    .dataframe thead th {\n",
       "        text-align: left;\n",
       "    }\n",
       "\n",
       "    .dataframe tbody tr th {\n",
       "        vertical-align: top;\n",
       "    }\n",
       "</style>\n",
       "<table border=\"1\" class=\"dataframe\">\n",
       "  <thead>\n",
       "    <tr style=\"text-align: right;\">\n",
       "      <th></th>\n",
       "      <th>year</th>\n",
       "      <th>month</th>\n",
       "      <th>day</th>\n",
       "      <th>RMM1</th>\n",
       "      <th>RMM2</th>\n",
       "      <th>phase</th>\n",
       "      <th>amplitude</th>\n",
       "      <th>origin</th>\n",
       "    </tr>\n",
       "  </thead>\n",
       "  <tbody>\n",
       "    <tr>\n",
       "      <th>1974-06-01</th>\n",
       "      <td>1974</td>\n",
       "      <td>6</td>\n",
       "      <td>1</td>\n",
       "      <td>1.63447</td>\n",
       "      <td>1.20304</td>\n",
       "      <td>5</td>\n",
       "      <td>2.02948</td>\n",
       "      <td>Final_value:__OLR_&amp;_NCEP_winds</td>\n",
       "    </tr>\n",
       "    <tr>\n",
       "      <th>1974-06-02</th>\n",
       "      <td>1974</td>\n",
       "      <td>6</td>\n",
       "      <td>2</td>\n",
       "      <td>1.60289</td>\n",
       "      <td>1.01512</td>\n",
       "      <td>5</td>\n",
       "      <td>1.89729</td>\n",
       "      <td>Final_value:__OLR_&amp;_NCEP_winds</td>\n",
       "    </tr>\n",
       "    <tr>\n",
       "      <th>1974-06-03</th>\n",
       "      <td>1974</td>\n",
       "      <td>6</td>\n",
       "      <td>3</td>\n",
       "      <td>1.51625</td>\n",
       "      <td>1.08551</td>\n",
       "      <td>5</td>\n",
       "      <td>1.86476</td>\n",
       "      <td>Final_value:__OLR_&amp;_NCEP_winds</td>\n",
       "    </tr>\n",
       "    <tr>\n",
       "      <th>1974-06-04</th>\n",
       "      <td>1974</td>\n",
       "      <td>6</td>\n",
       "      <td>4</td>\n",
       "      <td>1.50981</td>\n",
       "      <td>1.03573</td>\n",
       "      <td>5</td>\n",
       "      <td>1.83092</td>\n",
       "      <td>Final_value:__OLR_&amp;_NCEP_winds</td>\n",
       "    </tr>\n",
       "    <tr>\n",
       "      <th>1974-06-05</th>\n",
       "      <td>1974</td>\n",
       "      <td>6</td>\n",
       "      <td>5</td>\n",
       "      <td>1.55906</td>\n",
       "      <td>1.30518</td>\n",
       "      <td>5</td>\n",
       "      <td>2.03326</td>\n",
       "      <td>Final_value:__OLR_&amp;_NCEP_winds</td>\n",
       "    </tr>\n",
       "  </tbody>\n",
       "</table>\n",
       "</div>"
      ],
      "text/plain": [
       "            year  month  day     RMM1     RMM2  phase  amplitude  \\\n",
       "1974-06-01  1974      6    1  1.63447  1.20304      5    2.02948   \n",
       "1974-06-02  1974      6    2  1.60289  1.01512      5    1.89729   \n",
       "1974-06-03  1974      6    3  1.51625  1.08551      5    1.86476   \n",
       "1974-06-04  1974      6    4  1.50981  1.03573      5    1.83092   \n",
       "1974-06-05  1974      6    5  1.55906  1.30518      5    2.03326   \n",
       "\n",
       "                                    origin  \n",
       "1974-06-01  Final_value:__OLR_&_NCEP_winds  \n",
       "1974-06-02  Final_value:__OLR_&_NCEP_winds  \n",
       "1974-06-03  Final_value:__OLR_&_NCEP_winds  \n",
       "1974-06-04  Final_value:__OLR_&_NCEP_winds  \n",
       "1974-06-05  Final_value:__OLR_&_NCEP_winds  "
      ]
     },
     "execution_count": 17,
     "metadata": {},
     "output_type": "execute_result"
    }
   ],
   "source": [
    "data.head()"
   ]
  },
  {
   "cell_type": "code",
   "execution_count": 18,
   "metadata": {},
   "outputs": [
    {
     "data": {
      "text/html": [
       "<div>\n",
       "<style>\n",
       "    .dataframe thead tr:only-child th {\n",
       "        text-align: right;\n",
       "    }\n",
       "\n",
       "    .dataframe thead th {\n",
       "        text-align: left;\n",
       "    }\n",
       "\n",
       "    .dataframe tbody tr th {\n",
       "        vertical-align: top;\n",
       "    }\n",
       "</style>\n",
       "<table border=\"1\" class=\"dataframe\">\n",
       "  <thead>\n",
       "    <tr style=\"text-align: right;\">\n",
       "      <th></th>\n",
       "      <th>year</th>\n",
       "      <th>month</th>\n",
       "      <th>day</th>\n",
       "      <th>RMM1</th>\n",
       "      <th>RMM2</th>\n",
       "      <th>phase</th>\n",
       "      <th>amplitude</th>\n",
       "      <th>origin</th>\n",
       "    </tr>\n",
       "  </thead>\n",
       "  <tbody>\n",
       "    <tr>\n",
       "      <th>2017-09-05</th>\n",
       "      <td>2017</td>\n",
       "      <td>9</td>\n",
       "      <td>5</td>\n",
       "      <td>0.515983</td>\n",
       "      <td>-0.455458</td>\n",
       "      <td>4</td>\n",
       "      <td>0.688245</td>\n",
       "      <td>Prelim_value:_OLR_&amp;_ACCESS_wind</td>\n",
       "    </tr>\n",
       "    <tr>\n",
       "      <th>2017-09-06</th>\n",
       "      <td>2017</td>\n",
       "      <td>9</td>\n",
       "      <td>6</td>\n",
       "      <td>0.009035</td>\n",
       "      <td>-0.371963</td>\n",
       "      <td>3</td>\n",
       "      <td>0.372073</td>\n",
       "      <td>Prelim_value:_OLR_&amp;_ACCESS_wind</td>\n",
       "    </tr>\n",
       "    <tr>\n",
       "      <th>2017-09-07</th>\n",
       "      <td>2017</td>\n",
       "      <td>9</td>\n",
       "      <td>7</td>\n",
       "      <td>-0.159914</td>\n",
       "      <td>-0.267640</td>\n",
       "      <td>2</td>\n",
       "      <td>0.311775</td>\n",
       "      <td>Prelim_value:_OLR_&amp;_ACCESS_wind</td>\n",
       "    </tr>\n",
       "    <tr>\n",
       "      <th>2017-09-08</th>\n",
       "      <td>2017</td>\n",
       "      <td>9</td>\n",
       "      <td>8</td>\n",
       "      <td>-0.070005</td>\n",
       "      <td>-0.273755</td>\n",
       "      <td>2</td>\n",
       "      <td>0.282564</td>\n",
       "      <td>Prelim_value:_OLR_&amp;_ACCESS_wind</td>\n",
       "    </tr>\n",
       "    <tr>\n",
       "      <th>2017-09-09</th>\n",
       "      <td>2017</td>\n",
       "      <td>9</td>\n",
       "      <td>9</td>\n",
       "      <td>-0.079875</td>\n",
       "      <td>-0.358170</td>\n",
       "      <td>2</td>\n",
       "      <td>0.366968</td>\n",
       "      <td>Prelim_value:_OLR_&amp;_ACCESS_wind</td>\n",
       "    </tr>\n",
       "  </tbody>\n",
       "</table>\n",
       "</div>"
      ],
      "text/plain": [
       "            year  month  day      RMM1      RMM2  phase  amplitude  \\\n",
       "2017-09-05  2017      9    5  0.515983 -0.455458      4   0.688245   \n",
       "2017-09-06  2017      9    6  0.009035 -0.371963      3   0.372073   \n",
       "2017-09-07  2017      9    7 -0.159914 -0.267640      2   0.311775   \n",
       "2017-09-08  2017      9    8 -0.070005 -0.273755      2   0.282564   \n",
       "2017-09-09  2017      9    9 -0.079875 -0.358170      2   0.366968   \n",
       "\n",
       "                                     origin  \n",
       "2017-09-05  Prelim_value:_OLR_&_ACCESS_wind  \n",
       "2017-09-06  Prelim_value:_OLR_&_ACCESS_wind  \n",
       "2017-09-07  Prelim_value:_OLR_&_ACCESS_wind  \n",
       "2017-09-08  Prelim_value:_OLR_&_ACCESS_wind  \n",
       "2017-09-09  Prelim_value:_OLR_&_ACCESS_wind  "
      ]
     },
     "execution_count": 18,
     "metadata": {},
     "output_type": "execute_result"
    }
   ],
   "source": [
    "data.tail()"
   ]
  },
  {
   "cell_type": "markdown",
   "metadata": {},
   "source": [
    "### extracts the post 1979 period (no missing values)"
   ]
  },
  {
   "cell_type": "code",
   "execution_count": 19,
   "metadata": {
    "collapsed": true
   },
   "outputs": [],
   "source": [
    "data = data.loc['1979':,:]"
   ]
  },
  {
   "cell_type": "code",
   "execution_count": 20,
   "metadata": {},
   "outputs": [
    {
     "data": {
      "text/html": [
       "<div>\n",
       "<style>\n",
       "    .dataframe thead tr:only-child th {\n",
       "        text-align: right;\n",
       "    }\n",
       "\n",
       "    .dataframe thead th {\n",
       "        text-align: left;\n",
       "    }\n",
       "\n",
       "    .dataframe tbody tr th {\n",
       "        vertical-align: top;\n",
       "    }\n",
       "</style>\n",
       "<table border=\"1\" class=\"dataframe\">\n",
       "  <thead>\n",
       "    <tr style=\"text-align: right;\">\n",
       "      <th></th>\n",
       "      <th>year</th>\n",
       "      <th>month</th>\n",
       "      <th>day</th>\n",
       "      <th>RMM1</th>\n",
       "      <th>RMM2</th>\n",
       "      <th>phase</th>\n",
       "      <th>amplitude</th>\n",
       "      <th>origin</th>\n",
       "    </tr>\n",
       "  </thead>\n",
       "  <tbody>\n",
       "    <tr>\n",
       "      <th>1979-01-01</th>\n",
       "      <td>1979</td>\n",
       "      <td>1</td>\n",
       "      <td>1</td>\n",
       "      <td>0.142507</td>\n",
       "      <td>1.05047</td>\n",
       "      <td>6</td>\n",
       "      <td>1.06009</td>\n",
       "      <td>Final_value:__OLR_&amp;_NCEP_winds</td>\n",
       "    </tr>\n",
       "    <tr>\n",
       "      <th>1979-01-02</th>\n",
       "      <td>1979</td>\n",
       "      <td>1</td>\n",
       "      <td>2</td>\n",
       "      <td>-0.204200</td>\n",
       "      <td>1.37361</td>\n",
       "      <td>7</td>\n",
       "      <td>1.38870</td>\n",
       "      <td>Final_value:__OLR_&amp;_NCEP_winds</td>\n",
       "    </tr>\n",
       "    <tr>\n",
       "      <th>1979-01-03</th>\n",
       "      <td>1979</td>\n",
       "      <td>1</td>\n",
       "      <td>3</td>\n",
       "      <td>-0.158610</td>\n",
       "      <td>1.53943</td>\n",
       "      <td>7</td>\n",
       "      <td>1.54758</td>\n",
       "      <td>Final_value:__OLR_&amp;_NCEP_winds</td>\n",
       "    </tr>\n",
       "    <tr>\n",
       "      <th>1979-01-04</th>\n",
       "      <td>1979</td>\n",
       "      <td>1</td>\n",
       "      <td>4</td>\n",
       "      <td>-0.182450</td>\n",
       "      <td>1.45972</td>\n",
       "      <td>7</td>\n",
       "      <td>1.47108</td>\n",
       "      <td>Final_value:__OLR_&amp;_NCEP_winds</td>\n",
       "    </tr>\n",
       "    <tr>\n",
       "      <th>1979-01-05</th>\n",
       "      <td>1979</td>\n",
       "      <td>1</td>\n",
       "      <td>5</td>\n",
       "      <td>-0.320050</td>\n",
       "      <td>1.13680</td>\n",
       "      <td>7</td>\n",
       "      <td>1.18100</td>\n",
       "      <td>Final_value:__OLR_&amp;_NCEP_winds</td>\n",
       "    </tr>\n",
       "  </tbody>\n",
       "</table>\n",
       "</div>"
      ],
      "text/plain": [
       "            year  month  day      RMM1     RMM2  phase  amplitude  \\\n",
       "1979-01-01  1979      1    1  0.142507  1.05047      6    1.06009   \n",
       "1979-01-02  1979      1    2 -0.204200  1.37361      7    1.38870   \n",
       "1979-01-03  1979      1    3 -0.158610  1.53943      7    1.54758   \n",
       "1979-01-04  1979      1    4 -0.182450  1.45972      7    1.47108   \n",
       "1979-01-05  1979      1    5 -0.320050  1.13680      7    1.18100   \n",
       "\n",
       "                                    origin  \n",
       "1979-01-01  Final_value:__OLR_&_NCEP_winds  \n",
       "1979-01-02  Final_value:__OLR_&_NCEP_winds  \n",
       "1979-01-03  Final_value:__OLR_&_NCEP_winds  \n",
       "1979-01-04  Final_value:__OLR_&_NCEP_winds  \n",
       "1979-01-05  Final_value:__OLR_&_NCEP_winds  "
      ]
     },
     "execution_count": 20,
     "metadata": {},
     "output_type": "execute_result"
    }
   ],
   "source": [
    "data.head()"
   ]
  },
  {
   "cell_type": "markdown",
   "metadata": {},
   "source": [
    "### Now calculate and plot the composite anomalies -- for a given season -- in the VCSN daily rainfall dataset"
   ]
  },
  {
   "cell_type": "markdown",
   "metadata": {},
   "source": [
    "### selects a season in the RMM index Dataframe, i.e. November - March"
   ]
  },
  {
   "cell_type": "code",
   "execution_count": 21,
   "metadata": {
    "collapsed": true,
    "run_control": {
     "marked": false
    }
   },
   "outputs": [],
   "source": [
    "datas = data.loc[data.month.isin([11,12,1,2,3]),:]"
   ]
  },
  {
   "cell_type": "code",
   "execution_count": 22,
   "metadata": {},
   "outputs": [
    {
     "data": {
      "text/html": [
       "<div>\n",
       "<style>\n",
       "    .dataframe thead tr:only-child th {\n",
       "        text-align: right;\n",
       "    }\n",
       "\n",
       "    .dataframe thead th {\n",
       "        text-align: left;\n",
       "    }\n",
       "\n",
       "    .dataframe tbody tr th {\n",
       "        vertical-align: top;\n",
       "    }\n",
       "</style>\n",
       "<table border=\"1\" class=\"dataframe\">\n",
       "  <thead>\n",
       "    <tr style=\"text-align: right;\">\n",
       "      <th></th>\n",
       "      <th>year</th>\n",
       "      <th>month</th>\n",
       "      <th>day</th>\n",
       "      <th>RMM1</th>\n",
       "      <th>RMM2</th>\n",
       "      <th>phase</th>\n",
       "      <th>amplitude</th>\n",
       "      <th>origin</th>\n",
       "    </tr>\n",
       "  </thead>\n",
       "  <tbody>\n",
       "    <tr>\n",
       "      <th>1979-01-01</th>\n",
       "      <td>1979</td>\n",
       "      <td>1</td>\n",
       "      <td>1</td>\n",
       "      <td>0.142507</td>\n",
       "      <td>1.05047</td>\n",
       "      <td>6</td>\n",
       "      <td>1.06009</td>\n",
       "      <td>Final_value:__OLR_&amp;_NCEP_winds</td>\n",
       "    </tr>\n",
       "    <tr>\n",
       "      <th>1979-01-02</th>\n",
       "      <td>1979</td>\n",
       "      <td>1</td>\n",
       "      <td>2</td>\n",
       "      <td>-0.204200</td>\n",
       "      <td>1.37361</td>\n",
       "      <td>7</td>\n",
       "      <td>1.38870</td>\n",
       "      <td>Final_value:__OLR_&amp;_NCEP_winds</td>\n",
       "    </tr>\n",
       "    <tr>\n",
       "      <th>1979-01-03</th>\n",
       "      <td>1979</td>\n",
       "      <td>1</td>\n",
       "      <td>3</td>\n",
       "      <td>-0.158610</td>\n",
       "      <td>1.53943</td>\n",
       "      <td>7</td>\n",
       "      <td>1.54758</td>\n",
       "      <td>Final_value:__OLR_&amp;_NCEP_winds</td>\n",
       "    </tr>\n",
       "    <tr>\n",
       "      <th>1979-01-04</th>\n",
       "      <td>1979</td>\n",
       "      <td>1</td>\n",
       "      <td>4</td>\n",
       "      <td>-0.182450</td>\n",
       "      <td>1.45972</td>\n",
       "      <td>7</td>\n",
       "      <td>1.47108</td>\n",
       "      <td>Final_value:__OLR_&amp;_NCEP_winds</td>\n",
       "    </tr>\n",
       "    <tr>\n",
       "      <th>1979-01-05</th>\n",
       "      <td>1979</td>\n",
       "      <td>1</td>\n",
       "      <td>5</td>\n",
       "      <td>-0.320050</td>\n",
       "      <td>1.13680</td>\n",
       "      <td>7</td>\n",
       "      <td>1.18100</td>\n",
       "      <td>Final_value:__OLR_&amp;_NCEP_winds</td>\n",
       "    </tr>\n",
       "  </tbody>\n",
       "</table>\n",
       "</div>"
      ],
      "text/plain": [
       "            year  month  day      RMM1     RMM2  phase  amplitude  \\\n",
       "1979-01-01  1979      1    1  0.142507  1.05047      6    1.06009   \n",
       "1979-01-02  1979      1    2 -0.204200  1.37361      7    1.38870   \n",
       "1979-01-03  1979      1    3 -0.158610  1.53943      7    1.54758   \n",
       "1979-01-04  1979      1    4 -0.182450  1.45972      7    1.47108   \n",
       "1979-01-05  1979      1    5 -0.320050  1.13680      7    1.18100   \n",
       "\n",
       "                                    origin  \n",
       "1979-01-01  Final_value:__OLR_&_NCEP_winds  \n",
       "1979-01-02  Final_value:__OLR_&_NCEP_winds  \n",
       "1979-01-03  Final_value:__OLR_&_NCEP_winds  \n",
       "1979-01-04  Final_value:__OLR_&_NCEP_winds  \n",
       "1979-01-05  Final_value:__OLR_&_NCEP_winds  "
      ]
     },
     "execution_count": 22,
     "metadata": {},
     "output_type": "execute_result"
    }
   ],
   "source": [
    "datas.head()"
   ]
  },
  {
   "cell_type": "code",
   "execution_count": 23,
   "metadata": {},
   "outputs": [
    {
     "data": {
      "text/html": [
       "<div>\n",
       "<style>\n",
       "    .dataframe thead tr:only-child th {\n",
       "        text-align: right;\n",
       "    }\n",
       "\n",
       "    .dataframe thead th {\n",
       "        text-align: left;\n",
       "    }\n",
       "\n",
       "    .dataframe tbody tr th {\n",
       "        vertical-align: top;\n",
       "    }\n",
       "</style>\n",
       "<table border=\"1\" class=\"dataframe\">\n",
       "  <thead>\n",
       "    <tr style=\"text-align: right;\">\n",
       "      <th></th>\n",
       "      <th>year</th>\n",
       "      <th>month</th>\n",
       "      <th>day</th>\n",
       "      <th>RMM1</th>\n",
       "      <th>RMM2</th>\n",
       "      <th>phase</th>\n",
       "      <th>amplitude</th>\n",
       "      <th>origin</th>\n",
       "    </tr>\n",
       "  </thead>\n",
       "  <tbody>\n",
       "    <tr>\n",
       "      <th>2017-03-27</th>\n",
       "      <td>2017</td>\n",
       "      <td>3</td>\n",
       "      <td>27</td>\n",
       "      <td>0.716152</td>\n",
       "      <td>-0.757141</td>\n",
       "      <td>3</td>\n",
       "      <td>1.042179</td>\n",
       "      <td>Prelim_value:_OLR_&amp;_ACCESS_wind</td>\n",
       "    </tr>\n",
       "    <tr>\n",
       "      <th>2017-03-28</th>\n",
       "      <td>2017</td>\n",
       "      <td>3</td>\n",
       "      <td>28</td>\n",
       "      <td>0.627011</td>\n",
       "      <td>-0.569638</td>\n",
       "      <td>4</td>\n",
       "      <td>0.847131</td>\n",
       "      <td>Prelim_value:_OLR_&amp;_ACCESS_wind</td>\n",
       "    </tr>\n",
       "    <tr>\n",
       "      <th>2017-03-29</th>\n",
       "      <td>2017</td>\n",
       "      <td>3</td>\n",
       "      <td>29</td>\n",
       "      <td>0.379465</td>\n",
       "      <td>-0.147901</td>\n",
       "      <td>4</td>\n",
       "      <td>0.407269</td>\n",
       "      <td>Prelim_value:_OLR_&amp;_ACCESS_wind</td>\n",
       "    </tr>\n",
       "    <tr>\n",
       "      <th>2017-03-30</th>\n",
       "      <td>2017</td>\n",
       "      <td>3</td>\n",
       "      <td>30</td>\n",
       "      <td>0.015985</td>\n",
       "      <td>-0.130682</td>\n",
       "      <td>3</td>\n",
       "      <td>0.131656</td>\n",
       "      <td>Prelim_value:_OLR_&amp;_ACCESS_wind</td>\n",
       "    </tr>\n",
       "    <tr>\n",
       "      <th>2017-03-31</th>\n",
       "      <td>2017</td>\n",
       "      <td>3</td>\n",
       "      <td>31</td>\n",
       "      <td>0.045056</td>\n",
       "      <td>-0.002997</td>\n",
       "      <td>4</td>\n",
       "      <td>0.045155</td>\n",
       "      <td>Prelim_value:_OLR_&amp;_ACCESS_wind</td>\n",
       "    </tr>\n",
       "  </tbody>\n",
       "</table>\n",
       "</div>"
      ],
      "text/plain": [
       "            year  month  day      RMM1      RMM2  phase  amplitude  \\\n",
       "2017-03-27  2017      3   27  0.716152 -0.757141      3   1.042179   \n",
       "2017-03-28  2017      3   28  0.627011 -0.569638      4   0.847131   \n",
       "2017-03-29  2017      3   29  0.379465 -0.147901      4   0.407269   \n",
       "2017-03-30  2017      3   30  0.015985 -0.130682      3   0.131656   \n",
       "2017-03-31  2017      3   31  0.045056 -0.002997      4   0.045155   \n",
       "\n",
       "                                     origin  \n",
       "2017-03-27  Prelim_value:_OLR_&_ACCESS_wind  \n",
       "2017-03-28  Prelim_value:_OLR_&_ACCESS_wind  \n",
       "2017-03-29  Prelim_value:_OLR_&_ACCESS_wind  \n",
       "2017-03-30  Prelim_value:_OLR_&_ACCESS_wind  \n",
       "2017-03-31  Prelim_value:_OLR_&_ACCESS_wind  "
      ]
     },
     "execution_count": 23,
     "metadata": {},
     "output_type": "execute_result"
    }
   ],
   "source": [
    "datas.tail()"
   ]
  },
  {
   "cell_type": "markdown",
   "metadata": {},
   "source": [
    "### below an example of how to get the dates for calculating the composite anomalies "
   ]
  },
  {
   "cell_type": "markdown",
   "metadata": {},
   "source": [
    "#### selects all days belonging to phase 3, with an amplitude exceeding 1 std"
   ]
  },
  {
   "cell_type": "code",
   "execution_count": 24,
   "metadata": {
    "collapsed": true
   },
   "outputs": [],
   "source": [
    "datas_phase_3 = datas.query(\"phase == 3 & amplitude >= 1\")"
   ]
  },
  {
   "cell_type": "code",
   "execution_count": 25,
   "metadata": {},
   "outputs": [
    {
     "data": {
      "text/html": [
       "<div>\n",
       "<style>\n",
       "    .dataframe thead tr:only-child th {\n",
       "        text-align: right;\n",
       "    }\n",
       "\n",
       "    .dataframe thead th {\n",
       "        text-align: left;\n",
       "    }\n",
       "\n",
       "    .dataframe tbody tr th {\n",
       "        vertical-align: top;\n",
       "    }\n",
       "</style>\n",
       "<table border=\"1\" class=\"dataframe\">\n",
       "  <thead>\n",
       "    <tr style=\"text-align: right;\">\n",
       "      <th></th>\n",
       "      <th>year</th>\n",
       "      <th>month</th>\n",
       "      <th>day</th>\n",
       "      <th>RMM1</th>\n",
       "      <th>RMM2</th>\n",
       "      <th>phase</th>\n",
       "      <th>amplitude</th>\n",
       "      <th>origin</th>\n",
       "    </tr>\n",
       "  </thead>\n",
       "  <tbody>\n",
       "    <tr>\n",
       "      <th>1979-02-09</th>\n",
       "      <td>1979</td>\n",
       "      <td>2</td>\n",
       "      <td>9</td>\n",
       "      <td>0.184254</td>\n",
       "      <td>-1.18536</td>\n",
       "      <td>3</td>\n",
       "      <td>1.19959</td>\n",
       "      <td>Final_value:__OLR_&amp;_NCEP_winds</td>\n",
       "    </tr>\n",
       "    <tr>\n",
       "      <th>1979-02-10</th>\n",
       "      <td>1979</td>\n",
       "      <td>2</td>\n",
       "      <td>10</td>\n",
       "      <td>0.359396</td>\n",
       "      <td>-1.35510</td>\n",
       "      <td>3</td>\n",
       "      <td>1.40195</td>\n",
       "      <td>Final_value:__OLR_&amp;_NCEP_winds</td>\n",
       "    </tr>\n",
       "    <tr>\n",
       "      <th>1979-02-11</th>\n",
       "      <td>1979</td>\n",
       "      <td>2</td>\n",
       "      <td>11</td>\n",
       "      <td>0.384312</td>\n",
       "      <td>-1.44981</td>\n",
       "      <td>3</td>\n",
       "      <td>1.49988</td>\n",
       "      <td>Final_value:__OLR_&amp;_NCEP_winds</td>\n",
       "    </tr>\n",
       "    <tr>\n",
       "      <th>1979-02-12</th>\n",
       "      <td>1979</td>\n",
       "      <td>2</td>\n",
       "      <td>12</td>\n",
       "      <td>0.467450</td>\n",
       "      <td>-1.42767</td>\n",
       "      <td>3</td>\n",
       "      <td>1.50225</td>\n",
       "      <td>Final_value:__OLR_&amp;_NCEP_winds</td>\n",
       "    </tr>\n",
       "    <tr>\n",
       "      <th>1979-02-13</th>\n",
       "      <td>1979</td>\n",
       "      <td>2</td>\n",
       "      <td>13</td>\n",
       "      <td>0.684215</td>\n",
       "      <td>-1.70217</td>\n",
       "      <td>3</td>\n",
       "      <td>1.83454</td>\n",
       "      <td>Final_value:__OLR_&amp;_NCEP_winds</td>\n",
       "    </tr>\n",
       "  </tbody>\n",
       "</table>\n",
       "</div>"
      ],
      "text/plain": [
       "            year  month  day      RMM1     RMM2  phase  amplitude  \\\n",
       "1979-02-09  1979      2    9  0.184254 -1.18536      3    1.19959   \n",
       "1979-02-10  1979      2   10  0.359396 -1.35510      3    1.40195   \n",
       "1979-02-11  1979      2   11  0.384312 -1.44981      3    1.49988   \n",
       "1979-02-12  1979      2   12  0.467450 -1.42767      3    1.50225   \n",
       "1979-02-13  1979      2   13  0.684215 -1.70217      3    1.83454   \n",
       "\n",
       "                                    origin  \n",
       "1979-02-09  Final_value:__OLR_&_NCEP_winds  \n",
       "1979-02-10  Final_value:__OLR_&_NCEP_winds  \n",
       "1979-02-11  Final_value:__OLR_&_NCEP_winds  \n",
       "1979-02-12  Final_value:__OLR_&_NCEP_winds  \n",
       "1979-02-13  Final_value:__OLR_&_NCEP_winds  "
      ]
     },
     "execution_count": 25,
     "metadata": {},
     "output_type": "execute_result"
    }
   ],
   "source": [
    "datas_phase_3.head()"
   ]
  },
  {
   "cell_type": "markdown",
   "metadata": {},
   "source": [
    "#### get the index and cast to a pydatetime type, we'll use this mechanism to select the sample in the VCSN dataset"
   ]
  },
  {
   "cell_type": "code",
   "execution_count": 26,
   "metadata": {
    "collapsed": true
   },
   "outputs": [],
   "source": [
    "index_composite_phase_3 = datas_phase_3.index.to_pydatetime()"
   ]
  },
  {
   "cell_type": "code",
   "execution_count": 27,
   "metadata": {},
   "outputs": [
    {
     "data": {
      "text/plain": [
       "array([datetime.datetime(2017, 1, 26, 0, 0),\n",
       "       datetime.datetime(2017, 1, 27, 0, 0),\n",
       "       datetime.datetime(2017, 1, 28, 0, 0),\n",
       "       datetime.datetime(2017, 1, 29, 0, 0),\n",
       "       datetime.datetime(2017, 2, 28, 0, 0),\n",
       "       datetime.datetime(2017, 3, 1, 0, 0),\n",
       "       datetime.datetime(2017, 3, 2, 0, 0),\n",
       "       datetime.datetime(2017, 3, 3, 0, 0),\n",
       "       datetime.datetime(2017, 3, 4, 0, 0),\n",
       "       datetime.datetime(2017, 3, 27, 0, 0)], dtype=object)"
      ]
     },
     "execution_count": 27,
     "metadata": {},
     "output_type": "execute_result"
    }
   ],
   "source": [
    "index_composite_phase_3[-10:]"
   ]
  },
  {
   "cell_type": "markdown",
   "metadata": {},
   "source": [
    "### read the VCSN daily rainfall anomalies"
   ]
  },
  {
   "cell_type": "markdown",
   "metadata": {},
   "source": [
    "you need to change the path to something like `'S:/fauchereaun/Python_Workshop/data'` on Windows"
   ]
  },
  {
   "cell_type": "code",
   "execution_count": 28,
   "metadata": {
    "collapsed": true
   },
   "outputs": [],
   "source": [
    "dpath = os.path.join(os.environ['HOME'], 'drives/auck_scratch/fauchereaun/Python_Workshop/data')"
   ]
  },
  {
   "cell_type": "code",
   "execution_count": 29,
   "metadata": {
    "collapsed": true
   },
   "outputs": [],
   "source": [
    "fname = 'VCSN_daily_Rain_1981_2010_grid.anomalies.nc'"
   ]
  },
  {
   "cell_type": "code",
   "execution_count": 30,
   "metadata": {
    "collapsed": true
   },
   "outputs": [],
   "source": [
    "vcsn = xr.open_dataset(os.path.join(dpath, fname))"
   ]
  },
  {
   "cell_type": "code",
   "execution_count": 31,
   "metadata": {},
   "outputs": [
    {
     "data": {
      "text/plain": [
       "<xarray.Dataset>\n",
       "Dimensions:  (time: 13965, x: 243, y: 260)\n",
       "Coordinates:\n",
       "  * time     (time) datetime64[ns] 1979-01-01 1979-01-02 1979-01-03 ...\n",
       "  * x        (x) float64 166.4 166.4 166.5 166.5 166.6 166.7 166.7 166.8 ...\n",
       "  * y        (y) float64 -47.35 -47.3 -47.25 -47.2 -47.15 -47.1 -47.05 -47.0 ...\n",
       "Data variables:\n",
       "    mask     (y, x) float64 0.0 0.0 0.0 0.0 0.0 0.0 0.0 0.0 0.0 0.0 0.0 0.0 ...\n",
       "    Rain     (time, y, x) float64 nan nan nan nan nan nan nan nan nan nan ...\n",
       "Attributes:\n",
       "    CDI:                       Climate Data Interface version 1.7.1 (http://m...\n",
       "    Conventions:               CF-1.4\n",
       "    history:                   Tue May 09 10:53:01 2017: cdo ydaysub VCSN_dai...\n",
       "    nco_openmp_thread_number:  1\n",
       "    CDO:                       Climate Data Operators version 1.7.1 (http://m..."
      ]
     },
     "execution_count": 31,
     "metadata": {},
     "output_type": "execute_result"
    }
   ],
   "source": [
    "vcsn"
   ]
  },
  {
   "cell_type": "markdown",
   "metadata": {},
   "source": [
    "#### get the lons and lats "
   ]
  },
  {
   "cell_type": "code",
   "execution_count": 32,
   "metadata": {
    "collapsed": true
   },
   "outputs": [],
   "source": [
    "lon = vcsn['x']\n",
    "lat = vcsn['y']"
   ]
  },
  {
   "cell_type": "code",
   "execution_count": 33,
   "metadata": {
    "collapsed": true
   },
   "outputs": [],
   "source": [
    "lons, lats = np.meshgrid(lon, lat)"
   ]
  },
  {
   "cell_type": "markdown",
   "metadata": {},
   "source": [
    "### constrain the MJO time-series to conform to the range of dates in vcsn"
   ]
  },
  {
   "cell_type": "code",
   "execution_count": 34,
   "metadata": {},
   "outputs": [
    {
     "data": {
      "text/plain": [
       "numpy.datetime64('2017-03-26T00:00:00.000000000')"
      ]
     },
     "execution_count": 34,
     "metadata": {},
     "output_type": "execute_result"
    }
   ],
   "source": [
    "vcsn.time[-1].data"
   ]
  },
  {
   "cell_type": "code",
   "execution_count": 35,
   "metadata": {
    "collapsed": true
   },
   "outputs": [],
   "source": [
    "datas = datas.loc[None:vcsn.time[-1].data,:]"
   ]
  },
  {
   "cell_type": "code",
   "execution_count": 36,
   "metadata": {},
   "outputs": [
    {
     "data": {
      "text/html": [
       "<div>\n",
       "<style>\n",
       "    .dataframe thead tr:only-child th {\n",
       "        text-align: right;\n",
       "    }\n",
       "\n",
       "    .dataframe thead th {\n",
       "        text-align: left;\n",
       "    }\n",
       "\n",
       "    .dataframe tbody tr th {\n",
       "        vertical-align: top;\n",
       "    }\n",
       "</style>\n",
       "<table border=\"1\" class=\"dataframe\">\n",
       "  <thead>\n",
       "    <tr style=\"text-align: right;\">\n",
       "      <th></th>\n",
       "      <th>year</th>\n",
       "      <th>month</th>\n",
       "      <th>day</th>\n",
       "      <th>RMM1</th>\n",
       "      <th>RMM2</th>\n",
       "      <th>phase</th>\n",
       "      <th>amplitude</th>\n",
       "      <th>origin</th>\n",
       "    </tr>\n",
       "  </thead>\n",
       "  <tbody>\n",
       "    <tr>\n",
       "      <th>2017-03-22</th>\n",
       "      <td>2017</td>\n",
       "      <td>3</td>\n",
       "      <td>22</td>\n",
       "      <td>0.645815</td>\n",
       "      <td>-0.278101</td>\n",
       "      <td>4</td>\n",
       "      <td>0.703148</td>\n",
       "      <td>Prelim_value:_OLR_&amp;_ACCESS_wind</td>\n",
       "    </tr>\n",
       "    <tr>\n",
       "      <th>2017-03-23</th>\n",
       "      <td>2017</td>\n",
       "      <td>3</td>\n",
       "      <td>23</td>\n",
       "      <td>0.510080</td>\n",
       "      <td>-0.092290</td>\n",
       "      <td>4</td>\n",
       "      <td>0.518362</td>\n",
       "      <td>Prelim_value:_OLR_&amp;_ACCESS_wind</td>\n",
       "    </tr>\n",
       "    <tr>\n",
       "      <th>2017-03-24</th>\n",
       "      <td>2017</td>\n",
       "      <td>3</td>\n",
       "      <td>24</td>\n",
       "      <td>0.759678</td>\n",
       "      <td>0.068000</td>\n",
       "      <td>5</td>\n",
       "      <td>0.762715</td>\n",
       "      <td>Prelim_value:_OLR_&amp;_ACCESS_wind</td>\n",
       "    </tr>\n",
       "    <tr>\n",
       "      <th>2017-03-25</th>\n",
       "      <td>2017</td>\n",
       "      <td>3</td>\n",
       "      <td>25</td>\n",
       "      <td>0.801276</td>\n",
       "      <td>-0.234183</td>\n",
       "      <td>4</td>\n",
       "      <td>0.834797</td>\n",
       "      <td>Prelim_value:_OLR_&amp;_ACCESS_wind</td>\n",
       "    </tr>\n",
       "    <tr>\n",
       "      <th>2017-03-26</th>\n",
       "      <td>2017</td>\n",
       "      <td>3</td>\n",
       "      <td>26</td>\n",
       "      <td>0.584539</td>\n",
       "      <td>-0.586458</td>\n",
       "      <td>3</td>\n",
       "      <td>0.828021</td>\n",
       "      <td>Prelim_value:_OLR_&amp;_ACCESS_wind</td>\n",
       "    </tr>\n",
       "  </tbody>\n",
       "</table>\n",
       "</div>"
      ],
      "text/plain": [
       "            year  month  day      RMM1      RMM2  phase  amplitude  \\\n",
       "2017-03-22  2017      3   22  0.645815 -0.278101      4   0.703148   \n",
       "2017-03-23  2017      3   23  0.510080 -0.092290      4   0.518362   \n",
       "2017-03-24  2017      3   24  0.759678  0.068000      5   0.762715   \n",
       "2017-03-25  2017      3   25  0.801276 -0.234183      4   0.834797   \n",
       "2017-03-26  2017      3   26  0.584539 -0.586458      3   0.828021   \n",
       "\n",
       "                                     origin  \n",
       "2017-03-22  Prelim_value:_OLR_&_ACCESS_wind  \n",
       "2017-03-23  Prelim_value:_OLR_&_ACCESS_wind  \n",
       "2017-03-24  Prelim_value:_OLR_&_ACCESS_wind  \n",
       "2017-03-25  Prelim_value:_OLR_&_ACCESS_wind  \n",
       "2017-03-26  Prelim_value:_OLR_&_ACCESS_wind  "
      ]
     },
     "execution_count": 36,
     "metadata": {},
     "output_type": "execute_result"
    }
   ],
   "source": [
    "datas.tail()"
   ]
  },
  {
   "cell_type": "markdown",
   "metadata": {},
   "source": [
    "### and now maps "
   ]
  },
  {
   "cell_type": "markdown",
   "metadata": {},
   "source": [
    "#### set up the projection (lat / lon), for a list of supported projections in cartopy, head to: \n",
    "    \n",
    "    [http://scitools.org.uk/cartopy/docs/latest/crs/projections.html](http://scitools.org.uk/cartopy/docs/latest/crs/projections.html)"
   ]
  },
  {
   "cell_type": "code",
   "execution_count": 37,
   "metadata": {
    "collapsed": true
   },
   "outputs": [],
   "source": [
    "proj = ccrs.PlateCarree()"
   ]
  },
  {
   "cell_type": "markdown",
   "metadata": {},
   "source": [
    "### defines the colormap "
   ]
  },
  {
   "cell_type": "code",
   "execution_count": 38,
   "metadata": {
    "collapsed": true
   },
   "outputs": [],
   "source": [
    "cmap = plt.get_cmap('RdBu')"
   ]
  },
  {
   "cell_type": "markdown",
   "metadata": {},
   "source": [
    "#### loops over the phases, calculate the composite anomalies and map, might take a minute or so to run"
   ]
  },
  {
   "cell_type": "code",
   "execution_count": 42,
   "metadata": {},
   "outputs": [
    {
     "data": {
      "image/png": "[encoded data removed]",
      "text/plain": [
       "<matplotlib.figure.Figure at 0x11a505710>"
      ]
     },
     "metadata": {},
     "output_type": "display_data"
    }
   ],
   "source": [
    "f, axes = plt.subplots(nrows=4, ncols=2, figsize=(8, 16), subplot_kw=dict(projection=proj))\n",
    "\n",
    "axes= axes.flatten('F')\n",
    "\n",
    "for i, phase in enumerate(range(1, 8 + 1)):\n",
    "\n",
    "    ax=axes[i]\n",
    "\n",
    "    index_compos = datas.query(\"phase == {} & amplitude >= 1\".format(phase)).index.to_pydatetime()\n",
    "\n",
    "    compos = vcsn.sel(time=index_compos).mean('time')\n",
    "    \n",
    "    # set the lat and lon limits of the maps \n",
    "\n",
    "    ax.set_extent([lon.min(), lon.max(), lat.min(), lat.max()])\n",
    "    \n",
    "    # add the coastline\n",
    "    \n",
    "    ax.add_feature(cfeature.GSHHSFeature(scale='full'))\n",
    "    \n",
    "    # filled contour of the anomalies\n",
    "    \n",
    "    im = ax.contourf(lon, lat, compos['Rain'], levels=np.arange(-3, 3 + 0.5, 0.5), cmap=cmap, extend='both', transform=proj)\n",
    "    \n",
    "    # add the colorbar and its label\n",
    "    \n",
    "    cb = plt.colorbar(im, shrink=0.8, ax=ax)\n",
    "    \n",
    "    cb.set_label('mm')\n",
    "    \n",
    "    # add the grid lines and their labels\n",
    "    \n",
    "    gl = ax.gridlines(draw_labels=False, lw=0.5, linestyle=':')\n",
    "    \n",
    "    ax.set_xticks(np.arange(165., 185., 5.), crs=ccrs.PlateCarree())\n",
    "    ax.set_yticks([-45., -40., -35.], crs=ccrs.PlateCarree())\n",
    "\n",
    "    gl.xlabels_top = gl.ylabels_right = False\n",
    "\n",
    "    #     gl.xformatter = LONGITUDE_FORMATTER\n",
    "    #     gl.yformatter = LATITUDE_FORMATTER\n",
    "\n",
    "    lon_formatter = LongitudeFormatter(zero_direction_label=True)\n",
    "    lat_formatter = LatitudeFormatter()\n",
    "    \n",
    "    ax.xaxis.set_major_formatter(lon_formatter)\n",
    "    ax.yaxis.set_major_formatter(lat_formatter)\n",
    "    \n",
    "    # add the title \n",
    "    \n",
    "    ax.set_title(\"MJO phase {}, NDJFM\".format(phase))\n",
    "    \n",
    "    # close the xarray dataset containing the composite\n",
    "    \n",
    "    compos.close()\n",
    "    \n",
    "    \n",
    "# saves to disk: you need to probably change the path\n",
    "    \n",
    "f.savefig('../images/composite_anomalies_MJO_NDJFM.png', dpi=200)"
   ]
  },
  {
   "cell_type": "markdown",
   "metadata": {},
   "source": [
    "### don't forget to close the VCSN dataset"
   ]
  },
  {
   "cell_type": "code",
   "execution_count": 36,
   "metadata": {
    "collapsed": true
   },
   "outputs": [],
   "source": [
    "vcsn.close()"
   ]
  }
 ],
 "metadata": {
  "kernelspec": {
   "display_name": "Python [conda env:IOOS]",
   "language": "python",
   "name": "conda-env-IOOS-py"
  },
  "language_info": {
   "codemirror_mode": {
    "name": "ipython",
    "version": 3
   },
   "file_extension": ".py",
   "mimetype": "text/x-python",
   "name": "python",
   "nbconvert_exporter": "python",
   "pygments_lexer": "ipython3",
   "version": "3.5.2"
  },
  "toc": {
   "colors": {
    "hover_highlight": "#DAA520",
    "running_highlight": "#FF0000",
    "selected_highlight": "#FFD700"
   },
   "moveMenuLeft": true,
   "nav_menu": {
    "height": "12px",
    "width": "252px"
   },
   "navigate_menu": true,
   "number_sections": true,
   "sideBar": true,
   "threshold": 4,
   "toc_cell": false,
   "toc_section_display": "block",
   "toc_window_display": false,
   "widenNotebook": false
  }
 },
 "nbformat": 4,
 "nbformat_minor": 2
}
