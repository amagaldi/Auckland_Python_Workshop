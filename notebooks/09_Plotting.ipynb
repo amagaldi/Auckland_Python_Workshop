{
 "cells": [
  {
   "cell_type": "markdown",
   "metadata": {},
   "source": [
    "# Plotting in Python: Matplotlib and others ... "
   ]
  },
  {
   "cell_type": "code",
   "execution_count": null,
   "metadata": {
    "collapsed": true
   },
   "outputs": [],
   "source": [
    "from IPython.display import Image, HTML"
   ]
  },
  {
   "cell_type": "markdown",
   "metadata": {},
   "source": [
    "## MATPLOTLIB"
   ]
  },
  {
   "cell_type": "markdown",
   "metadata": {},
   "source": [
    "[Matplotlib](http://matplotlib.org) is the main (static) graphic library for Scientific Python, it allows to create complex and publication-ready plots in a variety of formats (png, ps, pdf ...). It has a *Matlab - like* plotting as well as object-oriented API, you have *very* fine-grained control on everything on your graph (at the expense of being a bit *verbose*), relatively smooth learning curve if you come from *Matlab*, not so much from *R*.\n",
    "\n",
    "<hr size=2>\n",
    "\n",
    "[basemap](http://matplotlib.org/basemap/) is a Matplotlib **toolkit** that allows to draw geographical maps and overlay data on these maps, it supports a large number of projections (see [http://matplotlib.org/basemap/users/mapsetup.html](http://matplotlib.org/basemap/users/mapsetup.html) for a list and later on in the present notebook)"
   ]
  },
  {
   "cell_type": "code",
   "execution_count": null,
   "metadata": {
    "collapsed": true
   },
   "outputs": [],
   "source": [
    "HTML('<iframe src=http://matplotlib.org width=1000 height=400></iframe>')"
   ]
  },
  {
   "cell_type": "markdown",
   "metadata": {},
   "source": [
    "The [Gallery](http://matplotlib.org/gallery.html) is your goto place when you are looking at creating a brand new \n",
    "graph using Matplotlib"
   ]
  },
  {
   "cell_type": "code",
   "execution_count": null,
   "metadata": {
    "collapsed": true
   },
   "outputs": [],
   "source": [
    "HTML('<iframe src=http://matplotlib.org/gallery.html width=1000 height=400></iframe>')"
   ]
  },
  {
   "cell_type": "markdown",
   "metadata": {},
   "source": [
    "Colormaps can be tricky, here are some examples and advice for using colormaps with Matplotlib"
   ]
  },
  {
   "cell_type": "code",
   "execution_count": null,
   "metadata": {
    "collapsed": true
   },
   "outputs": [],
   "source": [
    "HTML('<iframe src=http://matplotlib.org/users/colormaps.html width=1000 height=400></iframe>')"
   ]
  },
  {
   "cell_type": "code",
   "execution_count": null,
   "metadata": {
    "collapsed": true
   },
   "outputs": [],
   "source": [
    "import matplotlib\n",
    "from matplotlib import pyplot as plt # conventional way to import the plotting interface of matplotlib\n",
    "import numpy as np"
   ]
  },
  {
   "cell_type": "markdown",
   "metadata": {},
   "source": [
    "### backends in matplotlib"
   ]
  },
  {
   "cell_type": "markdown",
   "metadata": {},
   "source": [
    "Matplotlib can use different `backends`, in the first part of this notebook, we use the IPython inline backend, which is actually part of IPython"
   ]
  },
  {
   "cell_type": "code",
   "execution_count": null,
   "metadata": {
    "collapsed": true
   },
   "outputs": [],
   "source": [
    "%matplotlib inline"
   ]
  },
  {
   "cell_type": "code",
   "execution_count": null,
   "metadata": {
    "collapsed": true
   },
   "outputs": [],
   "source": [
    "print(matplotlib.rcParams['backend'])"
   ]
  },
  {
   "cell_type": "code",
   "execution_count": null,
   "metadata": {
    "collapsed": true
   },
   "outputs": [],
   "source": [
    "matplotlib.rcsetup.all_backends"
   ]
  },
  {
   "cell_type": "code",
   "execution_count": null,
   "metadata": {
    "collapsed": true
   },
   "outputs": [],
   "source": [
    "x = np.linspace(0, 10, 1000)\n",
    "plt.plot(x, np.sin(x))"
   ]
  },
  {
   "cell_type": "markdown",
   "metadata": {},
   "source": [
    "we can switch backends, but need to **restart the kernel** \n",
    "\n",
    "In the following we use the *notebook* backend, which provides some degree of control on the figure \n",
    "in the notebook itself"
   ]
  },
  {
   "cell_type": "code",
   "execution_count": null,
   "metadata": {
    "collapsed": true
   },
   "outputs": [],
   "source": [
    "import matplotlib\n",
    "matplotlib.use('nbAgg')"
   ]
  },
  {
   "cell_type": "code",
   "execution_count": null,
   "metadata": {
    "collapsed": true
   },
   "outputs": [],
   "source": [
    "from matplotlib import pyplot as plt\n",
    "import numpy as np\n",
    "x = np.linspace(0, 10, 1000)\n",
    "plt.plot(x, np.sin(x))\n",
    "plt.show()"
   ]
  },
  {
   "cell_type": "markdown",
   "metadata": {},
   "source": [
    "we go back to inline plotting via the `%matplotlib inline` magic command"
   ]
  },
  {
   "cell_type": "code",
   "execution_count": null,
   "metadata": {
    "collapsed": true
   },
   "outputs": [],
   "source": [
    "%matplotlib inline"
   ]
  },
  {
   "cell_type": "code",
   "execution_count": null,
   "metadata": {
    "collapsed": true
   },
   "outputs": [],
   "source": [
    "import matplotlib\n",
    "from matplotlib import pyplot as plt # conventional way to import the plotting interface of matplotlib\n",
    "import numpy as np"
   ]
  },
  {
   "cell_type": "markdown",
   "metadata": {},
   "source": [
    "### Matlab-like interactive plotting"
   ]
  },
  {
   "cell_type": "markdown",
   "metadata": {},
   "source": [
    "Matplotlib was originally designed to have an interface similar to that of matlab.\n",
    "For this reason, the library maintains pointers to the currently active figure and\n",
    "axes, and makes simple plots straightforward to create.  For example:"
   ]
  },
  {
   "cell_type": "code",
   "execution_count": null,
   "metadata": {
    "collapsed": true
   },
   "outputs": [],
   "source": [
    "x = np.linspace(0, 10, 1000)"
   ]
  },
  {
   "cell_type": "code",
   "execution_count": null,
   "metadata": {
    "collapsed": true
   },
   "outputs": [],
   "source": [
    "plt.figure()  # this is optional: if you just call plt.plot(), a figure will be created\n",
    "plt.plot(x, np.sin(x))\n",
    "plt.title('plot 1: sine')\n",
    "\n",
    "plt.figure()\n",
    "plt.plot(x, np.cos(x))\n",
    "plt.title('plot 2: cosine')"
   ]
  },
  {
   "cell_type": "markdown",
   "metadata": {},
   "source": [
    "### Object-oriented Matplotlib"
   ]
  },
  {
   "cell_type": "markdown",
   "metadata": {},
   "source": [
    "This is fine for simple plots, but when you start wanting to do more powerful\n",
    "things, it can get a little bit tricky.  A better way to approach it is to use the **Object-Oriented API** of Matplotlib"
   ]
  },
  {
   "cell_type": "code",
   "execution_count": null,
   "metadata": {
    "collapsed": true
   },
   "outputs": [],
   "source": [
    "fig1 = plt.figure() # creates a figure object\n",
    "ax1 = fig1.add_subplot(1, 1, 1) # creates an 'axes' object in this figure\n",
    "ax1.plot(x, np.sin(x)) # create plot in ax\n",
    "ax1.set_title('sine') # set properties of the axes\n",
    "\n",
    "fig2 = plt.figure()\n",
    "ax2 = fig2.add_subplot(1, 1, 1)\n",
    "ax2.plot(x, np.cos(x))\n",
    "ax2.set_title('cosine')"
   ]
  },
  {
   "cell_type": "code",
   "execution_count": null,
   "metadata": {
    "collapsed": true
   },
   "outputs": [],
   "source": [
    "Image('./images/fig_map.png')"
   ]
  },
  {
   "cell_type": "markdown",
   "metadata": {},
   "source": [
    "The big advantage of using the Object-Oriented API is more fined grained control, and also the fact that you can organise your code more (IMHO) logically, making for more readable code"
   ]
  },
  {
   "cell_type": "code",
   "execution_count": null,
   "metadata": {
    "collapsed": true
   },
   "outputs": [],
   "source": [
    "# creates the figure objects\n",
    "fig1 = plt.figure()\n",
    "fig2 = plt.figure()\n",
    "\n",
    "# axes\n",
    "ax1 = fig1.add_subplot(1, 1, 1)\n",
    "ax2 = fig2.add_subplot(1, 1, 1)\n",
    "\n",
    "# plot\n",
    "ax1.plot(x, np.sin(x))\n",
    "ax2.plot(x, np.cos(x))\n",
    "\n",
    "# set attributes\n",
    "ax1.set_title('sine')\n",
    "ax2.set_title('cosine')"
   ]
  },
  {
   "cell_type": "code",
   "execution_count": null,
   "metadata": {
    "collapsed": true
   },
   "outputs": [],
   "source": [
    "x = np.linspace(-5, 5, 10)\n",
    "\n",
    "y = x ** 2"
   ]
  },
  {
   "cell_type": "code",
   "execution_count": null,
   "metadata": {
    "collapsed": true
   },
   "outputs": [],
   "source": [
    "fig = plt.figure(figsize=[10,6])\n",
    "ax = fig.add_subplot(111)\n",
    "\n",
    "ax.plot(x, x**2, 'g--', label=\"y = x**2\")  \n",
    "ax.plot(x, x**3, 'bo', label=\"$y = x^3$\") # can use LaTex notation  \n",
    "ax.plot(x, x**2 - x**3, \n",
    "        color='red',    # can also abbrev to c='g'\n",
    "        linestyle='-',     # also ls=\n",
    "        marker='o',        # can also be specified in the linespec\n",
    "        markersize=8,     # note this is different from the scatter sizes\n",
    "        markeredgecolor='#01A9DB', # can use html color codes (see http://html-color-codes.info/)\n",
    "        markeredgewidth=1,\n",
    "        alpha=0.5,         # sets the transparency\n",
    "        zorder=-1,         # sets its position obove or below other items layering\n",
    "        label=\"$y = x^3 - x^2$\") # gives the legend name. When using legend() you don't have to give names\n",
    "\n",
    "ax.set_xlabel('x')\n",
    "ax.set_ylabel('y')\n",
    "ax.set_title('title', fontsize=16)\n",
    "ax.grid()\n",
    "ax.legend(loc=0); # upper left corner"
   ]
  },
  {
   "cell_type": "markdown",
   "metadata": {},
   "source": [
    "### Other Object Types"
   ]
  },
  {
   "cell_type": "markdown",
   "metadata": {},
   "source": [
    "all plot elements in a matplotlib figure is associated to an object that can be passed around, manipulated, updated ... \n",
    "\n",
    "To illustrate this , we will go back to the `MacOSX` backend (`qt` for Windows): the plots should be displayed in a separate window"
   ]
  },
  {
   "cell_type": "code",
   "execution_count": null,
   "metadata": {
    "collapsed": true
   },
   "outputs": [],
   "source": [
    "%matplotlib osx "
   ]
  },
  {
   "cell_type": "code",
   "execution_count": null,
   "metadata": {
    "collapsed": true
   },
   "outputs": [],
   "source": [
    "import matplotlib\n",
    "from matplotlib import pyplot as plt\n",
    "import numpy as np"
   ]
  },
  {
   "cell_type": "code",
   "execution_count": null,
   "metadata": {
    "collapsed": true
   },
   "outputs": [],
   "source": [
    "print(matplotlib.rcParams['backend'])"
   ]
  },
  {
   "cell_type": "markdown",
   "metadata": {},
   "source": [
    "In a **script** you generally don't need to specify the backend, if you need to you can call: \n",
    "```\n",
    "import matplotlib \n",
    "matplotlib.use('MacOSX ')\n",
    "```\n",
    "\n",
    "At the beginning of the script, **before** you import the pyplot interface with \n",
    "\n",
    "```\n",
    "from matplotlib import pyplot as plt\n",
    "```\n",
    "\n",
    "See the list of available backends (interactive and non-interactive) at: \n",
    "\n",
    "[http://matplotlib.org/faq/usage_faq.html#what-is-a-backend](http://matplotlib.org/faq/usage_faq.html#what-is-a-backend)\n",
    "\n",
    "**TIP**: if running a python + matplotlib script using *cron* on a Linux / Mac machine, you my need to use the 'Agg' backend"
   ]
  },
  {
   "cell_type": "code",
   "execution_count": null,
   "metadata": {
    "collapsed": true
   },
   "outputs": [],
   "source": [
    "x = np.linspace(-np.pi, np.pi, 100)\n",
    "\n",
    "fig, ax = plt.subplots()\n",
    "lines = ax.plot(x, np.sin(x))\n",
    "fig.show()"
   ]
  },
  {
   "cell_type": "markdown",
   "metadata": {},
   "source": [
    "Now that we've created the plot, we can adjust the attributes of the `Line2D`\n",
    "instance.  In general, any keyword in the ``plot`` command has an associated\n",
    "``set_`` command.\n",
    "\n",
    "After setting the different parameters, we can call the ``draw()`` method of\n",
    "the figure canvas to make the plot reflect the changes."
   ]
  },
  {
   "cell_type": "code",
   "execution_count": null,
   "metadata": {
    "collapsed": true
   },
   "outputs": [],
   "source": [
    "lines[0].set_color('red')\n",
    "fig.canvas.draw()"
   ]
  },
  {
   "cell_type": "code",
   "execution_count": null,
   "metadata": {
    "collapsed": true
   },
   "outputs": [],
   "source": [
    "lines[0].set_linewidth(6)\n",
    "fig.canvas.draw()"
   ]
  },
  {
   "cell_type": "markdown",
   "metadata": {},
   "source": [
    "Other plot elements can be manipulated as well.  For example, text:"
   ]
  },
  {
   "cell_type": "code",
   "execution_count": null,
   "metadata": {
    "collapsed": true
   },
   "outputs": [],
   "source": [
    "txt = plt.text(3.5, 0.5, \"Hello Auckland\")"
   ]
  },
  {
   "cell_type": "code",
   "execution_count": null,
   "metadata": {
    "collapsed": true
   },
   "outputs": [],
   "source": [
    "txt.set_size(20)\n",
    "txt.set_color('blue')\n",
    "fig.canvas.draw()"
   ]
  },
  {
   "cell_type": "markdown",
   "metadata": {},
   "source": [
    "You can also dynamically change the location of the text:"
   ]
  },
  {
   "cell_type": "code",
   "execution_count": null,
   "metadata": {
    "collapsed": true
   },
   "outputs": [],
   "source": [
    "txt.set_x(6)\n",
    "txt.set_y(-0.5)\n",
    "fig.canvas.draw()"
   ]
  },
  {
   "cell_type": "markdown",
   "metadata": {},
   "source": [
    "Similarly, you can even dynamically change the locations of each point\n",
    "in the line!  For example, changing the y data looks like this:"
   ]
  },
  {
   "cell_type": "code",
   "execution_count": null,
   "metadata": {
    "collapsed": true
   },
   "outputs": [],
   "source": [
    "lines[0].set_ydata(np.sin(2 * x))\n",
    "fig.canvas.draw()"
   ]
  },
  {
   "cell_type": "code",
   "execution_count": null,
   "metadata": {
    "collapsed": true
   },
   "outputs": [],
   "source": [
    "# back to the inline backend \n",
    "%matplotlib inline "
   ]
  },
  {
   "cell_type": "code",
   "execution_count": null,
   "metadata": {
    "collapsed": true
   },
   "outputs": [],
   "source": [
    "from IPython.display import Image, HTML"
   ]
  },
  {
   "cell_type": "code",
   "execution_count": null,
   "metadata": {
    "collapsed": true
   },
   "outputs": [],
   "source": [
    "import matplotlib\n",
    "from matplotlib import pyplot as plt\n",
    "import numpy as np"
   ]
  },
  {
   "cell_type": "markdown",
   "metadata": {},
   "source": [
    "### styles in matplotlib (available from version 1.4)"
   ]
  },
  {
   "cell_type": "code",
   "execution_count": null,
   "metadata": {
    "collapsed": true
   },
   "outputs": [],
   "source": [
    "from matplotlib import style"
   ]
  },
  {
   "cell_type": "code",
   "execution_count": null,
   "metadata": {
    "collapsed": true
   },
   "outputs": [],
   "source": [
    "style.available"
   ]
  },
  {
   "cell_type": "code",
   "execution_count": null,
   "metadata": {
    "collapsed": true
   },
   "outputs": [],
   "source": [
    "with style.context('ggplot'): # use context rather than style.use(), and use with as a context manager\n",
    "    plt.figure(figsize=(6,6))\n",
    "    plt.hist(np.random.randn(1000), bins=20, normed=True)\n",
    "    plt.title('histogram')\n",
    "    plt.grid()"
   ]
  },
  {
   "cell_type": "markdown",
   "metadata": {},
   "source": [
    "[xkcd](http://xkcd.com/)-style plots in Matplotlib"
   ]
  },
  {
   "cell_type": "code",
   "execution_count": null,
   "metadata": {
    "collapsed": true
   },
   "outputs": [],
   "source": [
    "Image('http://imgs.xkcd.com/comics/front_door.png')"
   ]
  },
  {
   "cell_type": "code",
   "execution_count": null,
   "metadata": {
    "collapsed": true
   },
   "outputs": [],
   "source": [
    "x = np.linspace(-np.pi, np.pi, 100)"
   ]
  },
  {
   "cell_type": "code",
   "execution_count": null,
   "metadata": {
    "collapsed": true
   },
   "outputs": [],
   "source": [
    "with plt.xkcd():\n",
    "    fig = plt.figure()\n",
    "    ax = fig.add_subplot(1, 1, 1)\n",
    "    ax.plot(x, np.sin(x))\n",
    "    ax.set_title('sine')"
   ]
  },
  {
   "cell_type": "code",
   "execution_count": null,
   "metadata": {
    "collapsed": true
   },
   "outputs": [],
   "source": [
    "with plt.xkcd():\n",
    "    plt.figure(figsize=(6,6))\n",
    "    plt.hist(np.random.randn(1000), bins=20, normed=True, color='b', alpha=0.5)\n",
    "    plt.title('histogram')\n",
    "    plt.grid()"
   ]
  },
  {
   "cell_type": "markdown",
   "metadata": {},
   "source": [
    "you can combine xkcd plots and styles"
   ]
  },
  {
   "cell_type": "code",
   "execution_count": null,
   "metadata": {
    "collapsed": true
   },
   "outputs": [],
   "source": [
    "with plt.xkcd():\n",
    "    with style.context('ggplot'): \n",
    "        plt.figure(figsize=(6,6))\n",
    "        plt.hist(np.random.randn(1000), bins=20, normed=True, color='b', alpha=0.5)\n",
    "        plt.title('histogram')\n",
    "        plt.grid()"
   ]
  },
  {
   "cell_type": "markdown",
   "metadata": {},
   "source": [
    "### subplots and layouts"
   ]
  },
  {
   "cell_type": "markdown",
   "metadata": {},
   "source": [
    "#### simple subplots: `plt.subplots()`"
   ]
  },
  {
   "cell_type": "code",
   "execution_count": null,
   "metadata": {
    "collapsed": true
   },
   "outputs": [],
   "source": [
    "f, axes = plt.subplots(nrows=2, ncols=1)"
   ]
  },
  {
   "cell_type": "code",
   "execution_count": null,
   "metadata": {
    "collapsed": true
   },
   "outputs": [],
   "source": [
    "type(axes)"
   ]
  },
  {
   "cell_type": "code",
   "execution_count": null,
   "metadata": {
    "collapsed": true
   },
   "outputs": [],
   "source": [
    "axes.shape"
   ]
  },
  {
   "cell_type": "code",
   "execution_count": null,
   "metadata": {
    "collapsed": true
   },
   "outputs": [],
   "source": [
    "f, axes = plt.subplots(nrows=2, ncols=1)\n",
    "axes = axes.flatten()\n",
    "axes[0].plot(x, np.sin(x))\n",
    "axes[1].plot(x, np.cos(x))"
   ]
  },
  {
   "cell_type": "markdown",
   "metadata": {},
   "source": [
    "#### more complex layouts: `plt.subplot2grid() `"
   ]
  },
  {
   "cell_type": "code",
   "execution_count": null,
   "metadata": {
    "collapsed": true
   },
   "outputs": [],
   "source": [
    "f = plt.figure(figsize=[10,10])\n",
    "ax1 = plt.subplot2grid((3,3), (0,0), colspan=1)\n",
    "ax2 = plt.subplot2grid((3,3), (1,0), colspan=2)\n",
    "ax3 = plt.subplot2grid((3,3), (0,2), rowspan=3)\n",
    "ax4 = plt.subplot2grid((3,3), (2,0))\n",
    "ax5 = plt.subplot2grid((3,3), (2,1))\n",
    "\n",
    "f.subplots_adjust(wspace=0.8)\n",
    "f.tight_layout() # some nice spacing!\n",
    "\n",
    "# adding data to each plot\n",
    "ax1.plot(np.random.rand(10))\n",
    "ax2.plot(np.random.rand(100), np.random.rand(100), '.r')\n",
    "ax3.hist(np.random.normal(size=1000), bins=20)\n",
    "ax4.fill_between(x, x**2, x**3, color=\"orange\", alpha=0.5)\n",
    "ax5.plot(np.random.rand(10), c='g', lw=4, marker='o', ms=10, mec='none')\n",
    "ax5.set_ylabel('x axis')"
   ]
  },
  {
   "cell_type": "markdown",
   "metadata": {},
   "source": [
    "# seaborn"
   ]
  },
  {
   "cell_type": "markdown",
   "metadata": {},
   "source": [
    "[Seaborn](https://seaborn.pydata.org/) is a visualization library based on matplotlib. It provides a high-level interface for drawing attractive statistical graphics."
   ]
  },
  {
   "cell_type": "code",
   "execution_count": null,
   "metadata": {
    "collapsed": true
   },
   "outputs": [],
   "source": [
    "HTML('<iframe src=https://seaborn.pydata.org/ width=1000 height=400></iframe>')"
   ]
  },
  {
   "cell_type": "markdown",
   "metadata": {},
   "source": [
    "The usual way to import seaborn is: \n",
    "```python\n",
    "import seaborn as sns\n",
    "```"
   ]
  },
  {
   "cell_type": "code",
   "execution_count": null,
   "metadata": {
    "collapsed": true
   },
   "outputs": [],
   "source": [
    "import seaborn as sns"
   ]
  },
  {
   "cell_type": "code",
   "execution_count": null,
   "metadata": {
    "collapsed": true
   },
   "outputs": [],
   "source": [
    "%matplotlib inline"
   ]
  },
  {
   "cell_type": "code",
   "execution_count": null,
   "metadata": {
    "collapsed": true
   },
   "outputs": [],
   "source": [
    "y = np.random.randn(1000)"
   ]
  },
  {
   "cell_type": "code",
   "execution_count": null,
   "metadata": {
    "collapsed": true
   },
   "outputs": [],
   "source": [
    "len(y)"
   ]
  },
  {
   "cell_type": "code",
   "execution_count": null,
   "metadata": {
    "collapsed": true
   },
   "outputs": [],
   "source": [
    "sns.distplot(y)"
   ]
  },
  {
   "cell_type": "markdown",
   "metadata": {},
   "source": [
    "seaborn plays well with Pandas Dataframes"
   ]
  },
  {
   "cell_type": "code",
   "execution_count": null,
   "metadata": {
    "collapsed": true
   },
   "outputs": [],
   "source": [
    "import pandas as pd"
   ]
  },
  {
   "cell_type": "code",
   "execution_count": null,
   "metadata": {
    "collapsed": true
   },
   "outputs": [],
   "source": [
    "data = pd.read_csv('./data/Daily_clim_data_Auckland.csv', index_col=0, parse_dates=True)"
   ]
  },
  {
   "cell_type": "code",
   "execution_count": null,
   "metadata": {
    "collapsed": true
   },
   "outputs": [],
   "source": [
    "data.head()"
   ]
  },
  {
   "cell_type": "code",
   "execution_count": null,
   "metadata": {
    "collapsed": true
   },
   "outputs": [],
   "source": [
    "sns.distplot(data.loc[:,'tmax'])"
   ]
  },
  {
   "cell_type": "code",
   "execution_count": null,
   "metadata": {
    "collapsed": true
   },
   "outputs": [],
   "source": [
    "data.loc[:,'month'] = data.index.month"
   ]
  },
  {
   "cell_type": "code",
   "execution_count": null,
   "metadata": {
    "collapsed": true
   },
   "outputs": [],
   "source": [
    "data.head()"
   ]
  },
  {
   "cell_type": "code",
   "execution_count": null,
   "metadata": {
    "collapsed": true
   },
   "outputs": [],
   "source": [
    "sns.boxplot(x=\"month\", y=\"tmin\", data=data, color=\"steelblue\")"
   ]
  },
  {
   "cell_type": "code",
   "execution_count": null,
   "metadata": {
    "collapsed": true
   },
   "outputs": [],
   "source": [
    "sns.boxplot(x=\"month\", y=\"tmin\", data=data, palette=\"PRGn\")"
   ]
  },
  {
   "cell_type": "code",
   "execution_count": null,
   "metadata": {
    "collapsed": true
   },
   "outputs": [],
   "source": [
    "f, ax = plt.subplots(figsize=(10,8))\n",
    "sns.boxplot(x=\"month\", y=\"tmin\", data=data, palette=\"PRGn\", ax=ax)"
   ]
  },
  {
   "cell_type": "code",
   "execution_count": null,
   "metadata": {
    "collapsed": true
   },
   "outputs": [],
   "source": [
    "data = pd.read_csv('./data/soi_nino.csv', index_col=0, parse_dates=True)"
   ]
  },
  {
   "cell_type": "code",
   "execution_count": null,
   "metadata": {
    "collapsed": true
   },
   "outputs": [],
   "source": [
    "data.head()"
   ]
  },
  {
   "cell_type": "markdown",
   "metadata": {},
   "source": [
    "linear regression plot"
   ]
  },
  {
   "cell_type": "code",
   "execution_count": null,
   "metadata": {
    "collapsed": true
   },
   "outputs": [],
   "source": [
    "sns.lmplot(x=\"nino\", y=\"SOI\", data=data)"
   ]
  },
  {
   "cell_type": "code",
   "execution_count": null,
   "metadata": {
    "collapsed": true
   },
   "outputs": [],
   "source": [
    "sns.jointplot(\"nino\", \"SOI\", data=data, kind=\"reg\", color=\"steelblue\")"
   ]
  },
  {
   "cell_type": "markdown",
   "metadata": {},
   "source": [
    "## Other libraries of interest"
   ]
  },
  {
   "cell_type": "markdown",
   "metadata": {},
   "source": [
    "### [plotnine](https://plotnine.readthedocs.io/en/stable/): R's `GGPLOT2` library, but in Python"
   ]
  },
  {
   "cell_type": "code",
   "execution_count": null,
   "metadata": {
    "collapsed": true
   },
   "outputs": [],
   "source": [
    "HTML('<iframe src=https://plotnine.readthedocs.io/en/stable/ width=1000 height=400></iframe>')"
   ]
  },
  {
   "cell_type": "markdown",
   "metadata": {},
   "source": [
    "### [bokeh](https://bokeh.pydata.org/en/latest/): interactive visualisation in the browser with Python"
   ]
  },
  {
   "cell_type": "code",
   "execution_count": null,
   "metadata": {
    "collapsed": true
   },
   "outputs": [],
   "source": [
    "HTML('<iframe src=https://bokeh.pydata.org/en/latest/ width=1000 height=400></iframe>')"
   ]
  },
  {
   "cell_type": "markdown",
   "metadata": {},
   "source": [
    "### [plotly](https://plot.ly/python/) for Python, also for creating interactive visualisations"
   ]
  },
  {
   "cell_type": "code",
   "execution_count": null,
   "metadata": {
    "collapsed": true
   },
   "outputs": [],
   "source": [
    "HTML('<iframe src=https://plot.ly/python/ width=1000 height=400></iframe>')"
   ]
  },
  {
   "cell_type": "code",
   "execution_count": null,
   "metadata": {
    "collapsed": true
   },
   "outputs": [],
   "source": []
  },
  {
   "cell_type": "markdown",
   "metadata": {},
   "source": [
    "### Jake VanderPlas's talk at scipy 2017 on the Python Visualisation Landscape"
   ]
  },
  {
   "cell_type": "code",
   "execution_count": null,
   "metadata": {
    "collapsed": true
   },
   "outputs": [],
   "source": [
    "from IPython.display import YouTubeVideo"
   ]
  },
  {
   "cell_type": "code",
   "execution_count": null,
   "metadata": {
    "collapsed": true
   },
   "outputs": [],
   "source": [
    "YouTubeVideo('https://www.youtube.com/watch?v=FytuB8nFHPQ')"
   ]
  },
  {
   "cell_type": "markdown",
   "metadata": {},
   "source": [
    "his slides are at [https://speakerdeck.com/jakevdp/pythons-visualization-landscape-pycon-2017](https://speakerdeck.com/jakevdp/pythons-visualization-landscape-pycon-2017)"
   ]
  },
  {
   "cell_type": "markdown",
   "metadata": {},
   "source": [
    "see also [https://rougier.github.io/python-visualization-landscape/landscape-colors.html](https://rougier.github.io/python-visualization-landscape/landscape-colors.html)"
   ]
  },
  {
   "cell_type": "code",
   "execution_count": null,
   "metadata": {
    "collapsed": true
   },
   "outputs": [],
   "source": []
  }
 ],
 "metadata": {
  "kernelspec": {
   "display_name": "Python [conda env:IOOS]",
   "language": "python",
   "name": "conda-env-IOOS-py"
  },
  "language_info": {
   "codemirror_mode": {
    "name": "ipython",
    "version": 3
   },
   "file_extension": ".py",
   "mimetype": "text/x-python",
   "name": "python",
   "nbconvert_exporter": "python",
   "pygments_lexer": "ipython3",
   "version": "3.5.2"
  },
  "toc": {
   "colors": {
    "hover_highlight": "#DAA520",
    "running_highlight": "#FF0000",
    "selected_highlight": "#FFD700"
   },
   "moveMenuLeft": true,
   "nav_menu": {
    "height": "244px",
    "width": "252px"
   },
   "navigate_menu": true,
   "number_sections": true,
   "sideBar": true,
   "threshold": 4,
   "toc_cell": false,
   "toc_section_display": "block",
   "toc_window_display": false,
   "widenNotebook": false
  }
 },
 "nbformat": 4,
 "nbformat_minor": 1
}
